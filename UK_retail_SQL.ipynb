{
 "cells": [
  {
   "cell_type": "code",
   "execution_count": 1,
   "id": "8748fcac",
   "metadata": {},
   "outputs": [
    {
     "name": "stdout",
     "output_type": "stream",
     "text": [
      "Collecting pandasql\n",
      "  Downloading pandasql-0.7.3.tar.gz (26 kB)\n",
      "  Preparing metadata (setup.py) ... \u001b[?25ldone\n",
      "\u001b[?25hRequirement already satisfied: numpy in /Applications/anaconda3/lib/python3.13/site-packages (from pandasql) (2.1.3)\n",
      "Requirement already satisfied: pandas in /Applications/anaconda3/lib/python3.13/site-packages (from pandasql) (2.2.3)\n",
      "Requirement already satisfied: sqlalchemy in /Applications/anaconda3/lib/python3.13/site-packages (from pandasql) (2.0.39)\n",
      "Requirement already satisfied: python-dateutil>=2.8.2 in /Applications/anaconda3/lib/python3.13/site-packages (from pandas->pandasql) (2.9.0.post0)\n",
      "Requirement already satisfied: pytz>=2020.1 in /Applications/anaconda3/lib/python3.13/site-packages (from pandas->pandasql) (2024.1)\n",
      "Requirement already satisfied: tzdata>=2022.7 in /Applications/anaconda3/lib/python3.13/site-packages (from pandas->pandasql) (2025.2)\n",
      "Requirement already satisfied: six>=1.5 in /Applications/anaconda3/lib/python3.13/site-packages (from python-dateutil>=2.8.2->pandas->pandasql) (1.17.0)\n",
      "Requirement already satisfied: typing-extensions>=4.6.0 in /Applications/anaconda3/lib/python3.13/site-packages (from sqlalchemy->pandasql) (4.12.2)\n",
      "Building wheels for collected packages: pandasql\n",
      "\u001b[33m  DEPRECATION: Building 'pandasql' using the legacy setup.py bdist_wheel mechanism, which will be removed in a future version. pip 25.3 will enforce this behaviour change. A possible replacement is to use the standardized build interface by setting the `--use-pep517` option, (possibly combined with `--no-build-isolation`), or adding a `pyproject.toml` file to the source tree of 'pandasql'. Discussion can be found at https://github.com/pypa/pip/issues/6334\u001b[0m\u001b[33m\n",
      "\u001b[0m  Building wheel for pandasql (setup.py) ... \u001b[?25ldone\n",
      "\u001b[?25h  Created wheel for pandasql: filename=pandasql-0.7.3-py3-none-any.whl size=26773 sha256=9a4d8ef49e4e958a055c346034dba18f9cbdac0f2ed81e8f814eaa5362485677\n",
      "  Stored in directory: /Users/quentingao/Library/Caches/pip/wheels/b4/d0/8c/a6b366870bf041849cd96e03b71641e082f8d6456269b603b7\n",
      "Successfully built pandasql\n",
      "Installing collected packages: pandasql\n",
      "Successfully installed pandasql-0.7.3\n"
     ]
    }
   ],
   "source": [
    "!pip install pandasql\n"
   ]
  },
  {
   "cell_type": "code",
   "execution_count": 2,
   "id": "ec422318",
   "metadata": {},
   "outputs": [],
   "source": [
    "import pandas as pd\n",
    "import pandasql as psql"
   ]
  },
  {
   "cell_type": "code",
   "execution_count": 4,
   "id": "7e09915d",
   "metadata": {},
   "outputs": [
    {
     "data": {
      "text/html": [
       "<div>\n",
       "<style scoped>\n",
       "    .dataframe tbody tr th:only-of-type {\n",
       "        vertical-align: middle;\n",
       "    }\n",
       "\n",
       "    .dataframe tbody tr th {\n",
       "        vertical-align: top;\n",
       "    }\n",
       "\n",
       "    .dataframe thead th {\n",
       "        text-align: right;\n",
       "    }\n",
       "</style>\n",
       "<table border=\"1\" class=\"dataframe\">\n",
       "  <thead>\n",
       "    <tr style=\"text-align: right;\">\n",
       "      <th></th>\n",
       "      <th>InvoiceNo</th>\n",
       "      <th>StockCode</th>\n",
       "      <th>Description</th>\n",
       "      <th>Quantity</th>\n",
       "      <th>InvoiceDate</th>\n",
       "      <th>UnitPrice</th>\n",
       "      <th>CustomerID</th>\n",
       "      <th>Country</th>\n",
       "    </tr>\n",
       "  </thead>\n",
       "  <tbody>\n",
       "    <tr>\n",
       "      <th>126307</th>\n",
       "      <td>547070</td>\n",
       "      <td>22151</td>\n",
       "      <td>PLACE SETTING WHITE HEART</td>\n",
       "      <td>6</td>\n",
       "      <td>3/20/2011 13:58</td>\n",
       "      <td>0.42</td>\n",
       "      <td>16115.0</td>\n",
       "      <td>United Kingdom</td>\n",
       "    </tr>\n",
       "    <tr>\n",
       "      <th>259132</th>\n",
       "      <td>559689</td>\n",
       "      <td>23120</td>\n",
       "      <td>PACK OF 6 SMALL FRUIT STRAWS</td>\n",
       "      <td>4</td>\n",
       "      <td>7/11/2011 15:46</td>\n",
       "      <td>0.42</td>\n",
       "      <td>NaN</td>\n",
       "      <td>United Kingdom</td>\n",
       "    </tr>\n",
       "    <tr>\n",
       "      <th>423779</th>\n",
       "      <td>573155</td>\n",
       "      <td>22650</td>\n",
       "      <td>CERAMIC PIRATE CHEST MONEY BANK</td>\n",
       "      <td>12</td>\n",
       "      <td>10/28/2011 8:34</td>\n",
       "      <td>1.45</td>\n",
       "      <td>13632.0</td>\n",
       "      <td>United Kingdom</td>\n",
       "    </tr>\n",
       "    <tr>\n",
       "      <th>25647</th>\n",
       "      <td>538378</td>\n",
       "      <td>22111</td>\n",
       "      <td>SCOTTIE DOG HOT WATER BOTTLE</td>\n",
       "      <td>3</td>\n",
       "      <td>12/12/2010 11:26</td>\n",
       "      <td>4.95</td>\n",
       "      <td>14577.0</td>\n",
       "      <td>United Kingdom</td>\n",
       "    </tr>\n",
       "    <tr>\n",
       "      <th>426416</th>\n",
       "      <td>573349</td>\n",
       "      <td>23201</td>\n",
       "      <td>JUMBO BAG ALPHABET</td>\n",
       "      <td>2</td>\n",
       "      <td>10/30/2011 12:28</td>\n",
       "      <td>2.08</td>\n",
       "      <td>17609.0</td>\n",
       "      <td>United Kingdom</td>\n",
       "    </tr>\n",
       "    <tr>\n",
       "      <th>340218</th>\n",
       "      <td>566612</td>\n",
       "      <td>23206</td>\n",
       "      <td>LUNCH BAG APPLE DESIGN</td>\n",
       "      <td>10</td>\n",
       "      <td>9/13/2011 17:16</td>\n",
       "      <td>1.65</td>\n",
       "      <td>16229.0</td>\n",
       "      <td>United Kingdom</td>\n",
       "    </tr>\n",
       "    <tr>\n",
       "      <th>16457</th>\n",
       "      <td>537666</td>\n",
       "      <td>22297</td>\n",
       "      <td>HEART IVORY TRELLIS SMALL</td>\n",
       "      <td>2</td>\n",
       "      <td>12/7/2010 18:36</td>\n",
       "      <td>2.51</td>\n",
       "      <td>NaN</td>\n",
       "      <td>United Kingdom</td>\n",
       "    </tr>\n",
       "    <tr>\n",
       "      <th>343313</th>\n",
       "      <td>566949</td>\n",
       "      <td>23349</td>\n",
       "      <td>ROLL WRAP VINTAGE CHRISTMAS</td>\n",
       "      <td>2</td>\n",
       "      <td>9/15/2011 16:32</td>\n",
       "      <td>2.46</td>\n",
       "      <td>NaN</td>\n",
       "      <td>United Kingdom</td>\n",
       "    </tr>\n",
       "    <tr>\n",
       "      <th>382241</th>\n",
       "      <td>569898</td>\n",
       "      <td>23110</td>\n",
       "      <td>PARISIENNE KEY CABINET</td>\n",
       "      <td>1</td>\n",
       "      <td>10/6/2011 16:08</td>\n",
       "      <td>12.46</td>\n",
       "      <td>NaN</td>\n",
       "      <td>United Kingdom</td>\n",
       "    </tr>\n",
       "    <tr>\n",
       "      <th>341693</th>\n",
       "      <td>566774</td>\n",
       "      <td>22942</td>\n",
       "      <td>CHRISTMAS LIGHTS 10 SANTAS</td>\n",
       "      <td>4</td>\n",
       "      <td>9/15/2011 9:44</td>\n",
       "      <td>8.50</td>\n",
       "      <td>12921.0</td>\n",
       "      <td>United Kingdom</td>\n",
       "    </tr>\n",
       "    <tr>\n",
       "      <th>235737</th>\n",
       "      <td>557644</td>\n",
       "      <td>22531</td>\n",
       "      <td>MAGIC DRAWING SLATE CIRCUS PARADE</td>\n",
       "      <td>1</td>\n",
       "      <td>6/21/2011 17:06</td>\n",
       "      <td>0.83</td>\n",
       "      <td>NaN</td>\n",
       "      <td>United Kingdom</td>\n",
       "    </tr>\n",
       "    <tr>\n",
       "      <th>365423</th>\n",
       "      <td>568707</td>\n",
       "      <td>20767</td>\n",
       "      <td>BLUE PAISLEY JOURNAL</td>\n",
       "      <td>6</td>\n",
       "      <td>9/28/2011 15:33</td>\n",
       "      <td>2.55</td>\n",
       "      <td>14911.0</td>\n",
       "      <td>EIRE</td>\n",
       "    </tr>\n",
       "    <tr>\n",
       "      <th>285324</th>\n",
       "      <td>561900</td>\n",
       "      <td>21206</td>\n",
       "      <td>STRAWBERRY HONEYCOMB  GARLAND</td>\n",
       "      <td>2</td>\n",
       "      <td>7/31/2011 15:31</td>\n",
       "      <td>1.65</td>\n",
       "      <td>16655.0</td>\n",
       "      <td>United Kingdom</td>\n",
       "    </tr>\n",
       "    <tr>\n",
       "      <th>428643</th>\n",
       "      <td>573492</td>\n",
       "      <td>21990</td>\n",
       "      <td>MODERN FLORAL STATIONERY SET</td>\n",
       "      <td>1</td>\n",
       "      <td>10/31/2011 11:57</td>\n",
       "      <td>1.25</td>\n",
       "      <td>13544.0</td>\n",
       "      <td>United Kingdom</td>\n",
       "    </tr>\n",
       "    <tr>\n",
       "      <th>201260</th>\n",
       "      <td>554278</td>\n",
       "      <td>22666</td>\n",
       "      <td>RECIPE BOX PANTRY YELLOW DESIGN</td>\n",
       "      <td>2</td>\n",
       "      <td>5/23/2011 13:25</td>\n",
       "      <td>2.95</td>\n",
       "      <td>13831.0</td>\n",
       "      <td>United Kingdom</td>\n",
       "    </tr>\n",
       "    <tr>\n",
       "      <th>434972</th>\n",
       "      <td>574068</td>\n",
       "      <td>23204</td>\n",
       "      <td>CHARLOTTE BAG APPLES DESIGN</td>\n",
       "      <td>10</td>\n",
       "      <td>11/2/2011 14:51</td>\n",
       "      <td>0.85</td>\n",
       "      <td>12490.0</td>\n",
       "      <td>France</td>\n",
       "    </tr>\n",
       "    <tr>\n",
       "      <th>82214</th>\n",
       "      <td>543193</td>\n",
       "      <td>22727</td>\n",
       "      <td>ALARM CLOCK BAKELIKE RED</td>\n",
       "      <td>4</td>\n",
       "      <td>2/4/2011 12:18</td>\n",
       "      <td>3.75</td>\n",
       "      <td>13725.0</td>\n",
       "      <td>United Kingdom</td>\n",
       "    </tr>\n",
       "    <tr>\n",
       "      <th>53770</th>\n",
       "      <td>540848</td>\n",
       "      <td>22537</td>\n",
       "      <td>MAGIC DRAWING SLATE DINOSAUR</td>\n",
       "      <td>1</td>\n",
       "      <td>1/12/2011 9:26</td>\n",
       "      <td>0.85</td>\n",
       "      <td>NaN</td>\n",
       "      <td>United Kingdom</td>\n",
       "    </tr>\n",
       "    <tr>\n",
       "      <th>225026</th>\n",
       "      <td>556631</td>\n",
       "      <td>85032B</td>\n",
       "      <td>BLOSSOM IMAGES GIFT WRAP SET</td>\n",
       "      <td>12</td>\n",
       "      <td>6/13/2011 14:59</td>\n",
       "      <td>0.65</td>\n",
       "      <td>13080.0</td>\n",
       "      <td>United Kingdom</td>\n",
       "    </tr>\n",
       "    <tr>\n",
       "      <th>96315</th>\n",
       "      <td>544485</td>\n",
       "      <td>22685</td>\n",
       "      <td>FRENCH BLUE METAL DOOR SIGN 0</td>\n",
       "      <td>1</td>\n",
       "      <td>2/21/2011 11:35</td>\n",
       "      <td>1.25</td>\n",
       "      <td>17757.0</td>\n",
       "      <td>United Kingdom</td>\n",
       "    </tr>\n",
       "  </tbody>\n",
       "</table>\n",
       "</div>"
      ],
      "text/plain": [
       "       InvoiceNo StockCode                          Description  Quantity  \\\n",
       "126307    547070     22151            PLACE SETTING WHITE HEART         6   \n",
       "259132    559689     23120         PACK OF 6 SMALL FRUIT STRAWS         4   \n",
       "423779    573155     22650      CERAMIC PIRATE CHEST MONEY BANK        12   \n",
       "25647     538378     22111         SCOTTIE DOG HOT WATER BOTTLE         3   \n",
       "426416    573349     23201                   JUMBO BAG ALPHABET         2   \n",
       "340218    566612     23206               LUNCH BAG APPLE DESIGN        10   \n",
       "16457     537666     22297            HEART IVORY TRELLIS SMALL         2   \n",
       "343313    566949     23349          ROLL WRAP VINTAGE CHRISTMAS         2   \n",
       "382241    569898     23110              PARISIENNE KEY CABINET          1   \n",
       "341693    566774     22942          CHRISTMAS LIGHTS 10 SANTAS          4   \n",
       "235737    557644     22531  MAGIC DRAWING SLATE CIRCUS PARADE           1   \n",
       "365423    568707     20767                BLUE PAISLEY JOURNAL          6   \n",
       "285324    561900     21206       STRAWBERRY HONEYCOMB  GARLAND          2   \n",
       "428643    573492     21990         MODERN FLORAL STATIONERY SET         1   \n",
       "201260    554278     22666      RECIPE BOX PANTRY YELLOW DESIGN         2   \n",
       "434972    574068     23204          CHARLOTTE BAG APPLES DESIGN        10   \n",
       "82214     543193     22727            ALARM CLOCK BAKELIKE RED          4   \n",
       "53770     540848     22537         MAGIC DRAWING SLATE DINOSAUR         1   \n",
       "225026    556631    85032B         BLOSSOM IMAGES GIFT WRAP SET        12   \n",
       "96315     544485     22685        FRENCH BLUE METAL DOOR SIGN 0         1   \n",
       "\n",
       "             InvoiceDate  UnitPrice  CustomerID         Country  \n",
       "126307   3/20/2011 13:58       0.42     16115.0  United Kingdom  \n",
       "259132   7/11/2011 15:46       0.42         NaN  United Kingdom  \n",
       "423779   10/28/2011 8:34       1.45     13632.0  United Kingdom  \n",
       "25647   12/12/2010 11:26       4.95     14577.0  United Kingdom  \n",
       "426416  10/30/2011 12:28       2.08     17609.0  United Kingdom  \n",
       "340218   9/13/2011 17:16       1.65     16229.0  United Kingdom  \n",
       "16457    12/7/2010 18:36       2.51         NaN  United Kingdom  \n",
       "343313   9/15/2011 16:32       2.46         NaN  United Kingdom  \n",
       "382241   10/6/2011 16:08      12.46         NaN  United Kingdom  \n",
       "341693    9/15/2011 9:44       8.50     12921.0  United Kingdom  \n",
       "235737   6/21/2011 17:06       0.83         NaN  United Kingdom  \n",
       "365423   9/28/2011 15:33       2.55     14911.0            EIRE  \n",
       "285324   7/31/2011 15:31       1.65     16655.0  United Kingdom  \n",
       "428643  10/31/2011 11:57       1.25     13544.0  United Kingdom  \n",
       "201260   5/23/2011 13:25       2.95     13831.0  United Kingdom  \n",
       "434972   11/2/2011 14:51       0.85     12490.0          France  \n",
       "82214     2/4/2011 12:18       3.75     13725.0  United Kingdom  \n",
       "53770     1/12/2011 9:26       0.85         NaN  United Kingdom  \n",
       "225026   6/13/2011 14:59       0.65     13080.0  United Kingdom  \n",
       "96315    2/21/2011 11:35       1.25     17757.0  United Kingdom  "
      ]
     },
     "execution_count": 4,
     "metadata": {},
     "output_type": "execute_result"
    }
   ],
   "source": [
    "df = pd.read_csv('OnlineRetail.csv', encoding='ISO-8859-1')\n",
    "df.sample(20)"
   ]
  },
  {
   "cell_type": "markdown",
   "id": "c0dcb623",
   "metadata": {},
   "source": [
    "**Calculate Transaction Revenue**\n",
    "\n",
    "In this step, we create a new column `TotalPrice` in the dataframe, which represents the total revenue for each transaction line. It is calculated by multiplying the quantity of items purchased (`Quantity`) by the price per unit (`UnitPrice`). This new feature will be useful for sales aggregation and revenue analysis in the subsequent steps.\n"
   ]
  },
  {
   "cell_type": "code",
   "execution_count": 31,
   "id": "16c8b405",
   "metadata": {},
   "outputs": [],
   "source": [
    "df['TotalPrice'] = df['Quantity'] * df['UnitPrice']\n"
   ]
  },
  {
   "cell_type": "markdown",
   "id": "0a000113",
   "metadata": {},
   "source": [
    "**Basic Dataset Overview**\n",
    "\n",
    "Here, we use SQL queries to quickly summarize the main features of the UK Retail dataset:\n",
    "\n",
    "- `total_rows`: The total number of transaction records in the dataset (**541,909** rows) 📦  \n",
    "- `n_orders`: The number of unique orders/invoices (**25,900** orders) 🧾  \n",
    "- `n_customers`: The number of unique customers (**4,372** customers) 🧑‍💼  \n",
    "- `n_products`: The number of unique products sold (**4,070** products) 🛒  \n",
    "\n",
    "This basic overview provides a snapshot of the dataset's size and diversity, setting the stage for deeper exploratory analysis.\n"
   ]
  },
  {
   "cell_type": "code",
   "execution_count": 32,
   "id": "b61e1a1d",
   "metadata": {},
   "outputs": [
    {
     "name": "stdout",
     "output_type": "stream",
     "text": [
      "   total_rows\n",
      "0      541909\n",
      "   n_orders\n",
      "0     25900\n",
      "   n_customers\n",
      "0         4372\n",
      "   n_products\n",
      "0        4070\n"
     ]
    }
   ],
   "source": [
    "print(psql.sqldf(\"SELECT COUNT(*) as total_rows FROM df\", locals()))\n",
    "print(psql.sqldf(\"SELECT COUNT(DISTINCT InvoiceNo) as n_orders FROM df\", locals()))\n",
    "print(psql.sqldf(\"SELECT COUNT(DISTINCT CustomerID) as n_customers FROM df\", locals()))\n",
    "print(psql.sqldf(\"SELECT COUNT(DISTINCT StockCode) as n_products FROM df\", locals()))\n"
   ]
  },
  {
   "cell_type": "markdown",
   "id": "bf7b5e97",
   "metadata": {},
   "source": [
    "**Sales and Price Summary**\n",
    "\n",
    "- 💰 **Total Sales**: The total revenue generated by all transactions is **9,747,747.93**.\n",
    "- 🧾 **Average Order Value**: On average, each order is worth **£17.99**.\n",
    "\n",
    "- 💵 **Average Product Price**: The mean unit price of products is **£4.61**.\n",
    "- 📉 **Minimum Price**: The lowest unit price recorded is **-£11,062.06**.  \n",
    "  ⚠️ This negative value likely indicates data entry errors or refunds.\n",
    "- 📈 **Maximum Price**: The highest unit price is **£38,970.00**, which may also be an outlier.\n",
    "\n",
    "These statistics give a quick sense of the scale and pricing dynamics in the dataset.  \n",
    "It's also a good reminder to check for data quality issues—especially extreme or negative prices! 🚩\n"
   ]
  },
  {
   "cell_type": "code",
   "execution_count": 52,
   "id": "6494b811",
   "metadata": {},
   "outputs": [
    {
     "name": "stdout",
     "output_type": "stream",
     "text": [
      "   total_sales  avg_order_value\n",
      "0  9747747.934        17.987795\n"
     ]
    }
   ],
   "source": [
    "print(psql.sqldf(\"SELECT SUM(TotalPrice) as total_sales, AVG(TotalPrice) as avg_order_value FROM df\", locals()))\n"
   ]
  },
  {
   "cell_type": "code",
   "execution_count": 34,
   "id": "90280fb6",
   "metadata": {},
   "outputs": [
    {
     "name": "stdout",
     "output_type": "stream",
     "text": [
      "   avg_price  min_price  max_price\n",
      "0   4.611114  -11062.06    38970.0\n"
     ]
    }
   ],
   "source": [
    "print(psql.sqldf(\"SELECT AVG(UnitPrice) as avg_price, MIN(UnitPrice) as min_price, MAX(UnitPrice) as max_price FROM df\", locals()))\n"
   ]
  },
  {
   "cell_type": "markdown",
   "id": "a7397b67",
   "metadata": {},
   "source": [
    "**Top 10 Countries by Total Sales**\n",
    "\n",
    "This query groups all transactions by country, then calculates:\n",
    "- The number of unique orders (`order_count`) for each country.\n",
    "- The total sales revenue (`total_sales`) contributed by each country.\n",
    "\n",
    "The results are sorted in descending order of total sales, showing the top 10 countries:\n",
    "\n",
    "| Country         | Orders   | Total Sales   |\n",
    "|-----------------|----------|--------------|\n",
    "| United Kingdom  | 23,494   | 8,187,806.36 |\n",
    "| Netherlands     | 101      | 284,661.54   |\n",
    "| EIRE            | 360      | 263,276.82   |\n",
    "| Germany         | 603      | 221,698.21   |\n",
    "| France          | 461      | 197,403.90   |\n",
    "| Australia       | 69       | 137,077.27   |\n",
    "| Switzerland     | 74       | 56,385.35    |\n",
    "| Spain           | 105      | 54,774.58    |\n",
    "| Belgium         | 119      | 40,910.96    |\n",
    "| Sweden          | 46       | 36,595.91    |\n",
    "\n",
    "- 🇬🇧 **United Kingdom** dominates both in number of orders and total sales, far ahead of any other country.\n",
    "- Other top contributors include the Netherlands, EIRE (Ireland), Germany, and France.\n",
    "- 🥇 This suggests that the UK is the primary market, with most sales activity and customers, while international sales are much smaller in scale.\n",
    "\n",
    "Such a breakdown is helpful for identifying core markets and potential areas for international expansion! 🌍📊\n"
   ]
  },
  {
   "cell_type": "code",
   "execution_count": 35,
   "id": "e8048fe9",
   "metadata": {},
   "outputs": [
    {
     "name": "stdout",
     "output_type": "stream",
     "text": [
      "          Country  order_count  total_sales\n",
      "0  United Kingdom        23494  8187806.364\n",
      "1     Netherlands          101   284661.540\n",
      "2            EIRE          360   263276.820\n",
      "3         Germany          603   221698.210\n",
      "4          France          461   197403.900\n",
      "5       Australia           69   137077.270\n",
      "6     Switzerland           74    56385.350\n",
      "7           Spain          105    54774.580\n",
      "8         Belgium          119    40910.960\n",
      "9          Sweden           46    36595.910\n"
     ]
    }
   ],
   "source": [
    "query = \"\"\"\n",
    "SELECT Country, \n",
    "       COUNT(DISTINCT InvoiceNo) as order_count, \n",
    "       SUM(TotalPrice) as total_sales\n",
    "FROM df\n",
    "GROUP BY Country\n",
    "ORDER BY total_sales DESC\n",
    "LIMIT 10\n",
    "\"\"\"\n",
    "print(psql.sqldf(query, locals()))\n"
   ]
  },
  {
   "cell_type": "markdown",
   "id": "775db1d5",
   "metadata": {},
   "source": [
    "### Monthly Sales Aggregation\n",
    "\n",
    "In this step, I used SQL to group the transaction data by month and calculate the total sales for each month. Specifically, I extracted the year and month from the `InvoiceDate` field and summed up the `TotalPrice` for each group.\n",
    "\n",
    "The results show substantial variation in monthly sales values, ranging from around 20,000 to nearly 70,000 in different months. This highlights clear fluctuations in sales volume throughout the observed period, which may reflect seasonal trends, demand cycles, or the impact of special promotions. Such monthly aggregation provides a solid foundation for identifying sales peaks and troughs, as well as for further time series analysis or visualization.\n"
   ]
  },
  {
   "cell_type": "code",
   "execution_count": 36,
   "id": "adf75886",
   "metadata": {},
   "outputs": [
    {
     "name": "stdout",
     "output_type": "stream",
     "text": [
      "       Month  monthly_sales\n",
      "0    1/10/20       24191.64\n",
      "1    1/11/20       67817.13\n",
      "2    1/12/20       23958.78\n",
      "3    1/13/20       20533.54\n",
      "4    1/14/20       47377.26\n",
      "..       ...            ...\n",
      "293  9/5/201       36844.04\n",
      "294  9/6/201       28052.62\n",
      "295  9/7/201       34125.65\n",
      "296  9/8/201       26708.00\n",
      "297  9/9/201       29317.69\n",
      "\n",
      "[298 rows x 2 columns]\n"
     ]
    }
   ],
   "source": [
    "query = \"\"\"\n",
    "SELECT substr(InvoiceDate, 1, 7) as Month, SUM(TotalPrice) as monthly_sales\n",
    "FROM df\n",
    "GROUP BY Month\n",
    "ORDER BY Month\n",
    "\"\"\"\n",
    "monthly_sales = psql.sqldf(query, locals())\n",
    "print(monthly_sales)\n"
   ]
  },
  {
   "cell_type": "markdown",
   "id": "ebda17e8",
   "metadata": {},
   "source": [
    "### Visualization: Monthly Sales Trend\n",
    "\n",
    "To visualize the aggregated sales data over time, I plotted the monthly total sales as a line chart. This visualization helps to quickly identify sales trends and fluctuations throughout the year.\n",
    "\n",
    "The line plot reveals considerable month-to-month variability in sales volume, with several sharp peaks and troughs. These spikes may correspond to periods of high demand or special promotions, while dips may indicate slower sales seasons or potential data anomalies. Overall, the plot provides a clear overview of sales performance trends and serves as a starting point for further time series analysis or deeper investigation into specific sales drivers.\n"
   ]
  },
  {
   "cell_type": "code",
   "execution_count": 37,
   "id": "2314b033",
   "metadata": {},
   "outputs": [
    {
     "data": {
      "text/plain": [
       "<Axes: title={'center': 'Monthly Sales Trend'}, xlabel='Month'>"
      ]
     },
     "execution_count": 37,
     "metadata": {},
     "output_type": "execute_result"
    },
    {
     "data": {
      "image/png": "[encoded data removed]",
      "text/plain": [
       "<Figure size 640x480 with 1 Axes>"
      ]
     },
     "metadata": {},
     "output_type": "display_data"
    }
   ],
   "source": [
    "monthly_sales.plot(x='Month', y='monthly_sales', kind='line', title='Monthly Sales Trend')\n"
   ]
  },
  {
   "cell_type": "markdown",
   "id": "7ec02182",
   "metadata": {},
   "source": [
    "### Top 10 Best-Selling Products\n",
    "\n",
    "I queried the dataset to identify the top 10 best-selling products based on total quantity sold. By grouping the sales records by product description and summing the quantities for each, I was able to rank all products and extract the most popular items.\n",
    "\n",
    "The results show that items such as \"WORLD WAR 2 GLIDERS ASSTD DESIGNS,\" \"JUMBO BAG RED RETROSPOT,\" and \"ASSORTED COLOUR BIRD ORNAMENT\" are among the most frequently sold products, each with tens of thousands of units sold. This summary highlights which products drive the largest sales volume and can inform further analysis on product trends or inventory management.\n"
   ]
  },
  {
   "cell_type": "code",
   "execution_count": 38,
   "id": "ad6f06e1",
   "metadata": {},
   "outputs": [
    {
     "name": "stdout",
     "output_type": "stream",
     "text": [
      "                          Description  total_sold\n",
      "0   WORLD WAR 2 GLIDERS ASSTD DESIGNS       53847\n",
      "1             JUMBO BAG RED RETROSPOT       47363\n",
      "2       ASSORTED COLOUR BIRD ORNAMENT       36381\n",
      "3                      POPCORN HOLDER       36334\n",
      "4     PACK OF 72 RETROSPOT CAKE CASES       36039\n",
      "5  WHITE HANGING HEART T-LIGHT HOLDER       35317\n",
      "6                  RABBIT NIGHT LIGHT       30680\n",
      "7             MINI PAINT SET VINTAGE        26437\n",
      "8          PACK OF 12 LONDON TISSUES        26315\n",
      "9  PACK OF 60 PINK PAISLEY CAKE CASES       24753\n"
     ]
    }
   ],
   "source": [
    "query = \"\"\"\n",
    "SELECT Description, SUM(Quantity) as total_sold\n",
    "FROM df\n",
    "GROUP BY Description\n",
    "ORDER BY total_sold DESC\n",
    "LIMIT 10\n",
    "\"\"\"\n",
    "print(psql.sqldf(query, locals()))\n"
   ]
  },
  {
   "cell_type": "markdown",
   "id": "ff05024c",
   "metadata": {},
   "source": [
    "### Top 10 Products by Total Sales Value\n",
    "\n",
    "I analyzed the data to find which products generated the highest total sales revenue. By grouping transactions by product description and summing the total price for each product, I was able to rank the top 10 products in terms of sales value.\n",
    "\n",
    "The analysis reveals that \"DOTCOM POSTAGE\" and \"REGENCY CAKESTAND 3 TIER\" led the list with the highest total sales, followed by \"WHITE HANGING HEART T-LIGHT HOLDER\" and \"PARTY BUNTING.\" This ranking shows which products contributed most to overall revenue, providing useful insights for revenue optimization and inventory strategy.\n"
   ]
  },
  {
   "cell_type": "code",
   "execution_count": 39,
   "id": "9bc67554",
   "metadata": {},
   "outputs": [
    {
     "name": "stdout",
     "output_type": "stream",
     "text": [
      "                          Description  total_sales\n",
      "0                      DOTCOM POSTAGE    206245.48\n",
      "1            REGENCY CAKESTAND 3 TIER    164762.19\n",
      "2  WHITE HANGING HEART T-LIGHT HOLDER     99668.47\n",
      "3                       PARTY BUNTING     98302.98\n",
      "4             JUMBO BAG RED RETROSPOT     92356.03\n",
      "5                  RABBIT NIGHT LIGHT     66756.59\n",
      "6                             POSTAGE     66230.64\n",
      "7     PAPER CHAIN KIT 50'S CHRISTMAS      63791.94\n",
      "8       ASSORTED COLOUR BIRD ORNAMENT     58959.73\n",
      "9                       CHILLI LIGHTS     53768.06\n"
     ]
    }
   ],
   "source": [
    "query = \"\"\"\n",
    "SELECT Description, SUM(TotalPrice) as total_sales\n",
    "FROM df\n",
    "GROUP BY Description\n",
    "ORDER BY total_sales DESC\n",
    "LIMIT 10\n",
    "\"\"\"\n",
    "print(psql.sqldf(query, locals()))\n"
   ]
  },
  {
   "cell_type": "markdown",
   "id": "a34e649c",
   "metadata": {},
   "source": [
    "### Top 10 Products by Total Sales Value\n",
    "\n",
    "I analyzed the data to find which products generated the highest total sales revenue. By grouping transactions by product description and summing the total price for each product, I was able to rank the top 10 products in terms of sales value.\n",
    "\n",
    "The analysis reveals that \"DOTCOM POSTAGE\" and \"REGENCY CAKESTAND 3 TIER\" led the list with the highest total sales, followed by \"WHITE HANGING HEART T-LIGHT HOLDER\" and \"PARTY BUNTING.\" This ranking shows which products contributed most to overall revenue, providing useful insights for revenue optimization and inventory strategy.\n"
   ]
  },
  {
   "cell_type": "code",
   "execution_count": 40,
   "id": "6bae088a",
   "metadata": {},
   "outputs": [
    {
     "name": "stdout",
     "output_type": "stream",
     "text": [
      "   CustomerID  order_count  total_spent\n",
      "0         NaN         3710   1447682.12\n",
      "1     14911.0          248    132572.62\n",
      "2     12748.0          224     29072.10\n",
      "3     17841.0          169     40340.78\n",
      "4     14606.0          128     11713.85\n",
      "5     15311.0          118     59419.34\n",
      "6     13089.0          118     57385.88\n",
      "7     12971.0           89     10930.26\n",
      "8     14527.0           86      7711.38\n",
      "9     13408.0           81     27487.41\n"
     ]
    }
   ],
   "source": [
    "query = \"\"\"\n",
    "SELECT CustomerID, COUNT(DISTINCT InvoiceNo) as order_count, SUM(TotalPrice) as total_spent\n",
    "FROM df\n",
    "GROUP BY CustomerID\n",
    "ORDER BY order_count DESC\n",
    "LIMIT 10\n",
    "\"\"\"\n",
    "print(psql.sqldf(query, locals()))\n"
   ]
  },
  {
   "cell_type": "code",
   "execution_count": 41,
   "id": "88c8e477",
   "metadata": {},
   "outputs": [
    {
     "name": "stdout",
     "output_type": "stream",
     "text": [
      "   CustomerID  total_spent\n",
      "0         NaN   1447682.12\n",
      "1     14646.0    279489.02\n",
      "2     18102.0    256438.49\n",
      "3     17450.0    187482.17\n",
      "4     14911.0    132572.62\n",
      "5     12415.0    123725.45\n",
      "6     14156.0    113384.14\n",
      "7     17511.0     88125.38\n",
      "8     16684.0     65892.08\n",
      "9     13694.0     62653.10\n"
     ]
    }
   ],
   "source": [
    "query = \"\"\"\n",
    "SELECT CustomerID, SUM(TotalPrice) as total_spent\n",
    "FROM df\n",
    "GROUP BY CustomerID\n",
    "ORDER BY total_spent DESC\n",
    "LIMIT 10\n",
    "\"\"\"\n",
    "print(psql.sqldf(query, locals()))\n"
   ]
  },
  {
   "cell_type": "code",
   "execution_count": 42,
   "id": "aed40414",
   "metadata": {},
   "outputs": [
    {
     "name": "stdout",
     "output_type": "stream",
     "text": [
      "   n_returns  total_return\n",
      "0       9288    -896812.49\n"
     ]
    }
   ],
   "source": [
    "query = \"\"\"\n",
    "SELECT COUNT(*) as n_returns, SUM(TotalPrice) as total_return\n",
    "FROM df\n",
    "WHERE InvoiceNo LIKE 'C%'\n",
    "\"\"\"\n",
    "print(psql.sqldf(query, locals()))\n"
   ]
  },
  {
   "cell_type": "code",
   "execution_count": null,
   "id": "7fca98b3",
   "metadata": {},
   "outputs": [
    {
     "name": "stdout",
     "output_type": "stream",
     "text": [
      "                 Country                          Description  total_qty\n",
      "0              Australia              MINI PAINT SET VINTAGE        2916\n",
      "1                Austria     SET 12 KIDS COLOUR  CHALK STICKS        288\n",
      "2                Bahrain           ICE CREAM SUNDAE LIP GLOSS         96\n",
      "3                Belgium      PACK OF 72 RETROSPOT CAKE CASES        480\n",
      "4                 Brazil            SMALL HEART FLOWERS HOOK          24\n",
      "5                 Canada           RETRO COFFEE MUGS ASSORTED        504\n",
      "6        Channel Islands                         RAIN PONCHO         407\n",
      "7                 Cyprus       HEART DECORATION PAINTED ZINC         384\n",
      "8         Czech Republic   WOODEN TREE CHRISTMAS SCANDINAVIAN         72\n",
      "9                Denmark               RED  HARMONICA IN BOX         288\n",
      "10                  EIRE      PACK OF 72 RETROSPOT CAKE CASES       1728\n",
      "11    European Community     WHITE ROCKING HORSE HAND PAINTED         24\n",
      "12               Finland      CHILDRENS CUTLERY POLKADOT PINK        480\n",
      "13                France                   RABBIT NIGHT LIGHT       4023\n",
      "14               Germany  ROUND SNACK BOXES SET OF4 WOODLAND        1218\n",
      "15                Greece      4 PEAR BOTANICAL DINNER CANDLES         48\n",
      "16             Hong Kong  ROUND SNACK BOXES SET OF4 WOODLAND         150\n",
      "17               Iceland           ICE CREAM SUNDAE LIP GLOSS        240\n",
      "18                Israel               WOODLAND CHARLOTTE BAG        130\n",
      "19                 Italy                 FEATHER PEN,HOT PINK        240\n",
      "20                 Japan                   RABBIT NIGHT LIGHT       3401\n",
      "21               Lebanon   ASSTD FRUIT+FLOWERS FRIDGE MAGNETS         24\n",
      "22             Lithuania               RED  HARMONICA IN BOX          48\n",
      "23                 Malta                GRAND CHOCOLATECANDLE         75\n",
      "24           Netherlands                   RABBIT NIGHT LIGHT       4801\n",
      "25                Norway  SMALL FOLDING SCISSOR(POINTED EDGE)        576\n",
      "26                Poland       STRAWBERRY CERAMIC TRINKET BOX        144\n",
      "27              Portugal                         POLKADOT PEN        240\n",
      "28                   RSA               WOODEN BOX OF DOMINOES         12\n",
      "29          Saudi Arabia            PLASTERS IN TIN STRONGMAN         12\n",
      "30             Singapore         CHRISTMAS TREE PAINTED ZINC         384\n",
      "31                 Spain      CHILDRENS CUTLERY POLKADOT PINK        729\n",
      "32                Sweden              MINI PAINT SET VINTAGE        2916\n",
      "33           Switzerland     PLASTERS IN TIN WOODLAND ANIMALS        639\n",
      "34                   USA       SET 12 COLOURING PENCILS DOILY         88\n",
      "35  United Arab Emirates          BIG DOUGHNUT FRIDGE MAGNETS         72\n",
      "36        United Kingdom    WORLD WAR 2 GLIDERS ASSTD DESIGNS      48326\n",
      "37           Unspecified    WORLD WAR 2 GLIDERS ASSTD DESIGNS         96\n"
     ]
    }
   ],
   "source": [
    "query = \"\"\"\n",
    "SELECT Country, Description, total_qty FROM (\n",
    "    SELECT Country, Description, SUM(Quantity) as total_qty,\n",
    "           ROW_NUMBER() OVER (PARTITION BY Country ORDER BY SUM(Quantity) DESC) as rn\n",
    "    FROM df\n",
    "    GROUP BY Country, Description\n",
    ")\n",
    "WHERE rn = 1\n",
    "\"\"\"\n",
    "try:\n",
    "    print(psql.sqldf(query, locals()))\n",
    "except Exception as e:\n",
    "    print(\"pandasql does not support window functions (such as ROW_NUMBER). Please use sqlite3 for this exercise or implement it using pandas.\")\n"
   ]
  },
  {
   "cell_type": "code",
   "execution_count": 44,
   "id": "f613e7af",
   "metadata": {},
   "outputs": [
    {
     "name": "stdout",
     "output_type": "stream",
     "text": [
      "       CustomerID    Month  monthly_spent\n",
      "0             NaN  1/10/20        9207.24\n",
      "1             NaN  1/11/20        8386.81\n",
      "2             NaN  1/12/20        7527.09\n",
      "3             NaN  1/13/20        5453.33\n",
      "4             NaN  1/14/20        8044.88\n",
      "...           ...      ...            ...\n",
      "19513     18283.0  7/14/20         143.19\n",
      "19514     18283.0  9/5/201         134.90\n",
      "19515     18287.0  10/12/2        1001.32\n",
      "19516     18287.0  10/28/2          70.68\n",
      "19517     18287.0  5/22/20         765.28\n",
      "\n",
      "[19518 rows x 3 columns]\n"
     ]
    }
   ],
   "source": [
    "query = \"\"\"\n",
    "SELECT CustomerID, substr(InvoiceDate, 1, 7) as Month, SUM(TotalPrice) as monthly_spent\n",
    "FROM df\n",
    "GROUP BY CustomerID, Month\n",
    "ORDER BY CustomerID, Month\n",
    "\"\"\"\n",
    "print(psql.sqldf(query, locals()))\n"
   ]
  },
  {
   "cell_type": "code",
   "execution_count": 45,
   "id": "b6ff0861",
   "metadata": {},
   "outputs": [
    {
     "name": "stdout",
     "output_type": "stream",
     "text": [
      "          Country  total_sales\n",
      "0  United Kingdom  8187806.364\n",
      "1     Netherlands   284661.540\n",
      "2            EIRE   263276.820\n"
     ]
    }
   ],
   "source": [
    "query = \"\"\"\n",
    "SELECT Country, SUM(TotalPrice) as total_sales\n",
    "FROM df\n",
    "GROUP BY Country\n",
    "HAVING total_sales > (SELECT AVG(total_sales) FROM (\n",
    "    SELECT SUM(TotalPrice) as total_sales\n",
    "    FROM df\n",
    "    GROUP BY Country\n",
    "))\n",
    "ORDER BY total_sales DESC\n",
    "\"\"\"\n",
    "print(psql.sqldf(query, locals()))\n"
   ]
  },
  {
   "cell_type": "code",
   "execution_count": 46,
   "id": "0959867b",
   "metadata": {},
   "outputs": [
    {
     "name": "stdout",
     "output_type": "stream",
     "text": [
      "   CustomerID  order_count  avg_price\n",
      "0         NaN         3710   8.076577\n",
      "1     14911.0          248   5.261843\n",
      "2     12748.0          224   3.256269\n",
      "3     17841.0          169   2.547060\n",
      "4     14606.0          128   2.817764\n",
      "5     15311.0          118   2.516158\n",
      "6     13089.0          118   2.782149\n",
      "7     12971.0           89   2.320942\n",
      "8     14527.0           86   5.931395\n",
      "9     13408.0           81   3.222555\n"
     ]
    }
   ],
   "source": [
    "query = \"\"\"\n",
    "SELECT CustomerID, COUNT(DISTINCT InvoiceNo) as order_count, AVG(UnitPrice) as avg_price\n",
    "FROM df\n",
    "GROUP BY CustomerID\n",
    "ORDER BY order_count DESC\n",
    "LIMIT 10\n",
    "\"\"\"\n",
    "print(psql.sqldf(query, locals()))\n"
   ]
  },
  {
   "cell_type": "code",
   "execution_count": null,
   "id": "74698f42",
   "metadata": {},
   "outputs": [
    {
     "name": "stdout",
     "output_type": "stream",
     "text": [
      "           n_returns  n_sales  return_rate\n",
      "StockCode                                 \n",
      "85023C             1        1          1.0\n",
      "35832              1        1          1.0\n",
      "84839              1        1          1.0\n",
      "85042              2        2          1.0\n",
      "D                 77       77          1.0\n",
      "CRUK              16       16          1.0\n",
      "20957              1        1          1.0\n",
      "85063              2        2          1.0\n",
      "85065              1        1          1.0\n",
      "79320              1        1          1.0\n"
     ]
    }
   ],
   "source": [
    "# return number for all \n",
    "returns = psql.sqldf(\"\"\"\n",
    "SELECT StockCode, COUNT(*) as n_returns\n",
    "FROM df\n",
    "WHERE InvoiceNo LIKE 'C%'\n",
    "GROUP BY StockCode\n",
    "\"\"\", locals())\n",
    "\n",
    "# sales for all\n",
    "sales = psql.sqldf(\"\"\"\n",
    "SELECT StockCode, COUNT(*) as n_sales\n",
    "FROM df\n",
    "GROUP BY StockCode\n",
    "\"\"\", locals())\n",
    "\n",
    "# merge\n",
    "returns_df = returns.set_index('StockCode')\n",
    "sales_df = sales.set_index('StockCode')\n",
    "result = returns_df.join(sales_df, how='inner')\n",
    "result['return_rate'] = result['n_returns'] / result['n_sales']\n",
    "print(result.sort_values('return_rate', ascending=False).head(10))\n"
   ]
  },
  {
   "cell_type": "code",
   "execution_count": 48,
   "id": "a6f8f147",
   "metadata": {},
   "outputs": [
    {
     "name": "stdout",
     "output_type": "stream",
     "text": [
      "       Month  new_customers\n",
      "0    1/10/20             35\n",
      "1    1/11/20             60\n",
      "2    1/12/20             46\n",
      "3    1/13/20             38\n",
      "4    1/14/20             35\n",
      "..       ...            ...\n",
      "289  9/5/201              3\n",
      "290  9/6/201              3\n",
      "291  9/7/201              1\n",
      "292  9/8/201              4\n",
      "293  9/9/201              2\n",
      "\n",
      "[294 rows x 2 columns]\n"
     ]
    }
   ],
   "source": [
    "query = \"\"\"\n",
    "SELECT Month, COUNT(DISTINCT CustomerID) as new_customers\n",
    "FROM (\n",
    "    SELECT CustomerID, MIN(substr(InvoiceDate, 1, 7)) as Month\n",
    "    FROM df\n",
    "    GROUP BY CustomerID\n",
    ")\n",
    "GROUP BY Month\n",
    "ORDER BY Month\n",
    "\"\"\"\n",
    "print(psql.sqldf(query, locals()))\n"
   ]
  },
  {
   "cell_type": "code",
   "execution_count": null,
   "id": "8cecd20a",
   "metadata": {},
   "outputs": [
    {
     "name": "stdout",
     "output_type": "stream",
     "text": [
      "       Month  CustomerID  order_count\n",
      "0    1/10/20         NaN         1177\n",
      "1    1/11/20         NaN          565\n",
      "2    1/12/20         NaN          884\n",
      "3    1/13/20         NaN          708\n",
      "4    1/14/20         NaN          693\n",
      "..       ...         ...          ...\n",
      "293  9/5/201         NaN          196\n",
      "294  9/6/201     17841.0          140\n",
      "295  9/7/201         NaN         1100\n",
      "296  9/8/201         NaN          356\n",
      "297  9/9/201         NaN          286\n",
      "\n",
      "[298 rows x 3 columns]\n"
     ]
    }
   ],
   "source": [
    "query = \"\"\"\n",
    "SELECT Month, CustomerID, order_count FROM (\n",
    "    SELECT substr(InvoiceDate, 1, 7) as Month, CustomerID, COUNT(*) as order_count,\n",
    "           ROW_NUMBER() OVER (PARTITION BY substr(InvoiceDate, 1, 7) ORDER BY COUNT(*) DESC) as rn\n",
    "    FROM df\n",
    "    GROUP BY Month, CustomerID\n",
    ")\n",
    "WHERE rn = 1\n",
    "\"\"\"\n",
    "try:\n",
    "    print(psql.sqldf(query, locals()))\n",
    "except Exception as e:\n",
    "    print(\"pandasql does not support window functions (such as ROW_NUMBER). Please use sqlite3 for this exercise or implement it using pandas.\")\n"
   ]
  },
  {
   "cell_type": "code",
   "execution_count": null,
   "id": "9bf1a336",
   "metadata": {},
   "outputs": [
    {
     "name": "stdout",
     "output_type": "stream",
     "text": [
      "  PriceBin  n_items  avg_quantity\n",
      "0      0-5   453898     10.823846\n",
      "1     5-10    62971      3.240698\n",
      "2    10-20    20863      2.565019\n",
      "3    20-50     2758      1.793691\n",
      "4  100-500      782      0.757033\n",
      "5   50-100      380      0.784211\n",
      "6     500+      245      0.453061\n",
      "7     None       12     -0.333333\n"
     ]
    }
   ],
   "source": [
    "# intervals for prices.\n",
    "bins = [0, 5, 10, 20, 50, 100, 500, 10000]\n",
    "labels = ['0-5','5-10','10-20','20-50','50-100','100-500','500+']\n",
    "df['PriceBin'] = pd.cut(df['UnitPrice'], bins=bins, labels=labels, right=False)\n",
    "\n",
    "query = \"\"\"\n",
    "SELECT PriceBin, COUNT(*) as n_items, AVG(Quantity) as avg_quantity\n",
    "FROM df\n",
    "GROUP BY PriceBin\n",
    "ORDER BY n_items DESC\n",
    "\"\"\"\n",
    "print(psql.sqldf(query, locals()))\n"
   ]
  }
 ],
 "metadata": {
  "kernelspec": {
   "display_name": "Python 3",
   "language": "python",
   "name": "python3"
  },
  "language_info": {
   "codemirror_mode": {
    "name": "ipython",
    "version": 3
   },
   "file_extension": ".py",
   "mimetype": "text/x-python",
   "name": "python",
   "nbconvert_exporter": "python",
   "pygments_lexer": "ipython3",
   "version": "3.13.5"
  }
 },
 "nbformat": 4,
 "nbformat_minor": 5
}
